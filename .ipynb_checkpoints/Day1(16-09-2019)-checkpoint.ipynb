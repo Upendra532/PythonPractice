{
 "cells": [
  {
   "cell_type": "code",
   "execution_count": 12,
   "metadata": {},
   "outputs": [
    {
     "name": "stdout",
     "output_type": "stream",
     "text": [
      "welcome to mstp\n",
      "iam from apssdc\n"
     ]
    }
   ],
   "source": [
    "print(\"welcome to mstp\")\n",
    "print(\"iam from apssdc\")"
   ]
  },
  {
   "cell_type": "code",
   "execution_count": 13,
   "metadata": {},
   "outputs": [
    {
     "data": {
      "text/plain": [
       "5"
      ]
     },
     "execution_count": 13,
     "metadata": {},
     "output_type": "execute_result"
    }
   ],
   "source": [
    "2+3"
   ]
  },
  {
   "cell_type": "code",
   "execution_count": 10,
   "metadata": {},
   "outputs": [
    {
     "data": {
      "text/plain": [
       "11"
      ]
     },
     "execution_count": 10,
     "metadata": {},
     "output_type": "execute_result"
    }
   ],
   "source": [
    "4+7"
   ]
  },
  {
   "cell_type": "markdown",
   "metadata": {},
   "source": [
    "# it will print like a header1 tag\n",
    "## it will print like a header2 tag\n",
    "### it will print like a header3 tag\n",
    "#### header4\n",
    "\n",
    "\n",
    "<p>iam using  paragraph tag</p>\n",
    "<img src=\"python symbol.jpg\">\n",
    "\n",
    "## HTML List\n",
    "- unordered list\n",
    "     - ul tag with li tag\n",
    "- ordered list\n",
    "     - ul tag withli tag\n",
    "<a href=\"python symbol.jpg\">click here</a>"
   ]
  },
  {
   "cell_type": "markdown",
   "metadata": {},
   "source": []
  }
 ],
 "metadata": {
  "kernelspec": {
   "display_name": "Python 3",
   "language": "python",
   "name": "python3"
  },
  "language_info": {
   "codemirror_mode": {
    "name": "ipython",
    "version": 3
   },
   "file_extension": ".py",
   "mimetype": "text/x-python",
   "name": "python",
   "nbconvert_exporter": "python",
   "pygments_lexer": "ipython3",
   "version": "3.7.3"
  }
 },
 "nbformat": 4,
 "nbformat_minor": 2
}
