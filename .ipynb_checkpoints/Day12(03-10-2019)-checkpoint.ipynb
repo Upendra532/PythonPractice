{
 "cells": [
  {
   "cell_type": "markdown",
   "metadata": {},
   "source": [
    "# iterators and generators\n",
    " - iterators\n",
    " - set\n",
    " - dictionary\n",
    " - tuples\n",
    " - string\n",
    " "
   ]
  },
  {
   "cell_type": "code",
   "execution_count": 4,
   "metadata": {},
   "outputs": [
    {
     "name": "stdout",
     "output_type": "stream",
     "text": [
      "u p e n   d r a "
     ]
    }
   ],
   "source": [
    "name = \"upen dra\"\n",
    "for ch in name:\n",
    "    print(ch,end = \" \")\n",
    "    "
   ]
  },
  {
   "cell_type": "code",
   "execution_count": 7,
   "metadata": {},
   "outputs": [
    {
     "name": "stdout",
     "output_type": "stream",
     "text": [
      "upendra 169y1a0532 cse "
     ]
    }
   ],
   "source": [
    "li = ['upendra','169y1a0532','cse']\n",
    "for name in li:\n",
    "    print(name,end = \" \")"
   ]
  },
  {
   "cell_type": "code",
   "execution_count": 10,
   "metadata": {},
   "outputs": [
    {
     "name": "stdout",
     "output_type": "stream",
     "text": [
      "upendra\n",
      "btech\n",
      "cse\n"
     ]
    }
   ],
   "source": [
    "t = ('upendra','btech','cse')\n",
    "for name in t:\n",
    "    print(name)"
   ]
  },
  {
   "cell_type": "code",
   "execution_count": null,
   "metadata": {},
   "outputs": [],
   "source": []
  }
 ],
 "metadata": {
  "kernelspec": {
   "display_name": "Python 3",
   "language": "python",
   "name": "python3"
  },
  "language_info": {
   "codemirror_mode": {
    "name": "ipython",
    "version": 3
   },
   "file_extension": ".py",
   "mimetype": "text/x-python",
   "name": "python",
   "nbconvert_exporter": "python",
   "pygments_lexer": "ipython3",
   "version": "3.7.3"
  }
 },
 "nbformat": 4,
 "nbformat_minor": 2
}
