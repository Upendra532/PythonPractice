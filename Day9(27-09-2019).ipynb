{
 "cells": [
  {
   "cell_type": "code",
   "execution_count": null,
   "metadata": {},
   "outputs": [
    {
     "name": "stdout",
     "output_type": "stream",
     "text": [
      "2\n",
      "-32 89  -15\n",
      "-42\n"
     ]
    }
   ],
   "source": [
    "# additive inverse\n",
    "\n",
    "n = int(input())\n",
    "for i in range(n):\n",
    "    sm = 0\n",
    "    s = input().split()\n",
    "    for j in s:\n",
    "        sm += int(j)*-1\n",
    "    print(sm)"
   ]
  },
  {
   "cell_type": "code",
   "execution_count": 2,
   "metadata": {},
   "outputs": [
    {
     "name": "stdout",
     "output_type": "stream",
     "text": [
      "2\n",
      "hai\n",
      "ibj\n",
      "hsjkahjhad\n",
      "itklbikibe\n"
     ]
    }
   ],
   "source": [
    "# encryption \n",
    "n = int(input())\n",
    "for i in range(n):\n",
    "    s = input()\n",
    "    string = \"\"\n",
    "    for ch in s:\n",
    "        if ch.isalpha():\n",
    "            string += chr(ord(ch)+1)\n",
    "        else:\n",
    "            string += ch\n",
    "    print(string)"
   ]
  },
  {
   "cell_type": "code",
   "execution_count": null,
   "metadata": {},
   "outputs": [],
   "source": []
  },
  {
   "cell_type": "code",
   "execution_count": null,
   "metadata": {},
   "outputs": [],
   "source": []
  }
 ],
 "metadata": {
  "kernelspec": {
   "display_name": "Python 3",
   "language": "python",
   "name": "python3"
  },
  "language_info": {
   "codemirror_mode": {
    "name": "ipython",
    "version": 3
   },
   "file_extension": ".py",
   "mimetype": "text/x-python",
   "name": "python",
   "nbconvert_exporter": "python",
   "pygments_lexer": "ipython3",
   "version": "3.7.3"
  }
 },
 "nbformat": 4,
 "nbformat_minor": 2
}
