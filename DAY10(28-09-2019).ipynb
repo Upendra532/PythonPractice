{
 "cells": [
  {
   "cell_type": "markdown",
   "metadata": {},
   "source": [
    "# Contact Application\n",
    "- create contact.txt\n",
    "- read valid name,mobilenumbers from user then store in cantact.txt(before \n",
    "  storing perform validations using re)\n",
    "- define functon to display all contacts\n",
    "- define to function to search a contact\n"
   ]
  },
  {
   "cell_type": "code",
   "execution_count": 3,
   "metadata": {},
   "outputs": [
    {
     "name": "stdout",
     "output_type": "stream",
     "text": [
      "et4eteyy\n",
      "6979457987\n",
      "invalid name\n"
     ]
    }
   ],
   "source": [
    "import re\n",
    "path = 'contact.txt'\n",
    "with open(path,'a')as fh:\n",
    "    name = input()\n",
    "    mb  = input()\n",
    "    if re.search('^[a-zA-z]{3,30}$',name):\n",
    "        fh.write(name+\" \")\n",
    "    else:\n",
    "        print(\"invalid name\")\n",
    "    if re.search('^[6-9][0-9]{9}',mb):\n",
    "        fh.write(mb+\"\\n\")\n",
    "    else:\n",
    "        print(\"invalid mobile number\")"
   ]
  },
  {
   "cell_type": "code",
   "execution_count": null,
   "metadata": {},
   "outputs": [],
   "source": [
    "import re\n",
    "def isvalidnumber(mb):\n",
    "    if re.search('^[6-9][0-9]{9}',mb):\n",
    "        return True\n",
    "    return False\n",
    "def isvalidname(name):\n",
    "    if re.search('^[a-zA-Z]{3,30}$',name):\n",
    "        return True\n",
    "    return False\n",
    "def createcontact(name,mb):\n",
    "    if isvalidnumber(mb):\n",
    "        if isvalidname(name):\n",
    "            fh.write(name+\"\\t\"+mb+\"\\n\")\n",
    "            print(\"contact is created:\")\n",
    "        else:\n",
    "            print(\"enter valid name\")\n",
    "    else:\n",
    "        print(\"enter valid mobile number\")\n",
    "name=input()\n",
    "mb=input()\n",
    "CreateContact(name,mb)    "
   ]
  },
  {
   "cell_type": "code",
   "execution_count": 9,
   "metadata": {},
   "outputs": [
    {
     "name": "stdout",
     "output_type": "stream",
     "text": [
      "upendra\n",
      "8096400912vamsi9493380597\n",
      "9441009447\n",
      "8096400912\n",
      "9052678902\n",
      "dhuihui 8096400912\n",
      "\n"
     ]
    }
   ],
   "source": [
    "def display():\n",
    "    with open(\"contact.txt\") as fh:\n",
    "        print(fh.read())\n",
    "display()"
   ]
  },
  {
   "cell_type": "code",
   "execution_count": 1,
   "metadata": {},
   "outputs": [
    {
     "name": "stdout",
     "output_type": "stream",
     "text": [
      "vamsi\n",
      "no such type of contact\n",
      "no such type of contact\n",
      "no such type of contact\n",
      "no such type of contact\n",
      "no such type of contact\n",
      "no such type of contact\n"
     ]
    }
   ],
   "source": [
    "n=input()\n",
    "with open(\"contact.txt\") as fh:\n",
    "    for line in fh:\n",
    "        line=line.split()\n",
    "        if line[0]==n:\n",
    "            print(line[1])\n",
    "        else:\n",
    "            print(\"no such type of contact\")"
   ]
  },
  {
   "cell_type": "code",
   "execution_count": 1,
   "metadata": {},
   "outputs": [
    {
     "data": {
      "text/plain": [
       "55"
      ]
     },
     "execution_count": 1,
     "metadata": {},
     "output_type": "execute_result"
    }
   ],
   "source": [
    "import random\n",
    "random.randint(0,100)"
   ]
  },
  {
   "cell_type": "code",
   "execution_count": 1,
   "metadata": {},
   "outputs": [],
   "source": [
    "import random\n",
    "def generatemarks():\n",
    "    for i in range(0,60):\n",
    "        with open('marks.txt','a') as fh:\n",
    "            r=random.randint(0,100)\n",
    "            fh.write(str(r)+\"\\n\")\n",
    "generatemarks()"
   ]
  },
  {
   "cell_type": "code",
   "execution_count": 6,
   "metadata": {},
   "outputs": [
    {
     "name": "stdout",
     "output_type": "stream",
     "text": [
      "7\n",
      "23\n",
      "33\n",
      "41\n",
      "12\n",
      "3\n",
      "65\n",
      "53\n",
      "80\n",
      "70\n",
      "30\n",
      "76\n",
      "48\n",
      "8\n",
      "56\n",
      "0\n",
      "95\n",
      "25\n",
      "96\n",
      "13\n",
      "51\n",
      "11\n",
      "69\n",
      "100\n",
      "12\n",
      "24\n",
      "51\n",
      "79\n",
      "51\n",
      "8\n",
      "17\n",
      "67\n",
      "10\n",
      "29\n",
      "92\n",
      "50\n",
      "37\n",
      "83\n",
      "72\n",
      "88\n",
      "89\n",
      "46\n",
      "59\n",
      "20\n",
      "42\n",
      "97\n",
      "32\n",
      "85\n",
      "77\n",
      "51\n",
      "9\n",
      "9\n",
      "44\n",
      "2\n",
      "16\n",
      "12\n",
      "4\n",
      "1\n",
      "66\n",
      "89\n",
      "76\n",
      "28\n",
      "98\n",
      "32\n",
      "13\n",
      "48\n",
      "96\n",
      "55\n",
      "24\n",
      "83\n",
      "1\n",
      "18\n",
      "13\n",
      "19\n",
      "35\n",
      "70\n",
      "72\n",
      "82\n",
      "47\n",
      "23\n",
      "9\n",
      "37\n",
      "5\n",
      "3\n",
      "74\n",
      "8\n",
      "13\n",
      "42\n",
      "38\n",
      "4\n",
      "43\n",
      "61\n",
      "68\n",
      "48\n",
      "77\n",
      "71\n",
      "72\n",
      "77\n",
      "15\n",
      "52\n",
      "24\n",
      "89\n",
      "29\n",
      "9\n",
      "85\n",
      "1\n",
      "38\n",
      "16\n",
      "26\n",
      "67\n",
      "\n"
     ]
    }
   ],
   "source": [
    "def Displaymarks(filepath):\n",
    "    with open(filepath) as fh:\n",
    "        print(fh.read())\n",
    "path=\"marks.txt\"\n",
    "Displaymarks(path)"
   ]
  },
  {
   "cell_type": "code",
   "execution_count": 4,
   "metadata": {},
   "outputs": [
    {
     "name": "stdout",
     "output_type": "stream",
     "text": [
      "failed count is 48\n"
     ]
    }
   ],
   "source": [
    "def failedmarks(filepath):\n",
    "    c=0\n",
    "    with open(filepath,'r') as fh:\n",
    "        for line in fh:\n",
    "            if(int(line)<35):\n",
    "                c+=1\n",
    "    return c\n",
    "path=\"marks.txt\"\n",
    "r=failedmarks(path)\n",
    "print(\"failed count is %d\"%(r))"
   ]
  },
  {
   "cell_type": "code",
   "execution_count": 3,
   "metadata": {},
   "outputs": [
    {
     "name": "stdout",
     "output_type": "stream",
     "text": [
      "passed count is 62\n"
     ]
    }
   ],
   "source": [
    "def passedmarks(filepath):\n",
    "    c=0\n",
    "    with open(filepath,'r') as fh:\n",
    "        for line in fh:\n",
    "            if(int(line)>=35):\n",
    "                c+=1\n",
    "    return c\n",
    "path=\"marks.txt\"\n",
    "r=passedmarks(path)\n",
    "print(\"passed count is %d\"%(r))"
   ]
  },
  {
   "cell_type": "code",
   "execution_count": 5,
   "metadata": {},
   "outputs": [
    {
     "name": "stdout",
     "output_type": "stream",
     "text": [
      "passed count is 17\n"
     ]
    }
   ],
   "source": [
    "def passedmarks(filepath):\n",
    "    c=0\n",
    "    with open(filepath,'r') as fh:\n",
    "        for line in fh:\n",
    "            if(int(line)>=80):\n",
    "                c+=1\n",
    "    return c\n",
    "path=\"marks.txt\"\n",
    "r=passedmarks(path)\n",
    "print(\"passed count is %d\"%(r))"
   ]
  },
  {
   "cell_type": "code",
   "execution_count": null,
   "metadata": {},
   "outputs": [],
   "source": []
  }
 ],
 "metadata": {
  "kernelspec": {
   "display_name": "Python 3",
   "language": "python",
   "name": "python3"
  },
  "language_info": {
   "codemirror_mode": {
    "name": "ipython",
    "version": 3
   },
   "file_extension": ".py",
   "mimetype": "text/x-python",
   "name": "python",
   "nbconvert_exporter": "python",
   "pygments_lexer": "ipython3",
   "version": "3.7.3"
  }
 },
 "nbformat": 4,
 "nbformat_minor": 2
}
