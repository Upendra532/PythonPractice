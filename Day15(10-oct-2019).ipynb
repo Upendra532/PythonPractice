{
 "cells": [
  {
   "cell_type": "markdown",
   "metadata": {},
   "source": [
    "# Day objectives\n",
    "- encryption and decryption using dictionary"
   ]
  },
  {
   "cell_type": "code",
   "execution_count": 6,
   "metadata": {},
   "outputs": [
    {
     "data": {
      "text/plain": [
       "{'A': 'E',\n",
       " 'B': 'F',\n",
       " 'C': 'G',\n",
       " 'D': 'H',\n",
       " 'E': 'I',\n",
       " 'F': 'J',\n",
       " 'G': 'K',\n",
       " 'H': 'L',\n",
       " 'I': 'M',\n",
       " 'J': 'N',\n",
       " 'K': 'O',\n",
       " 'L': 'P',\n",
       " 'M': 'Q',\n",
       " 'N': 'R',\n",
       " 'O': 'S',\n",
       " 'P': 'T',\n",
       " 'Q': 'U',\n",
       " 'R': 'V',\n",
       " 'S': 'W',\n",
       " 'T': 'X',\n",
       " 'U': 'Y',\n",
       " 'V': 'Z',\n",
       " 'W': 'A',\n",
       " 'X': 'B',\n",
       " 'Y': 'C',\n",
       " 'Z': 'D'}"
      ]
     },
     "execution_count": 6,
     "metadata": {},
     "output_type": "execute_result"
    }
   ],
   "source": [
    "encdec = {}\n",
    "for i in range(65,91):\n",
    "    if i>86:\n",
    "        encdec[chr(i)]=chr(i-22)\n",
    "    else:\n",
    "        encdec[chr(i)]=chr(i+4)\n",
    "encdec"
   ]
  },
  {
   "cell_type": "code",
   "execution_count": 7,
   "metadata": {},
   "outputs": [
    {
     "name": "stdout",
     "output_type": "stream",
     "text": [
      "UPENDRA YTIRHVE\n"
     ]
    }
   ],
   "source": [
    "omsg = \"UPENDRA\"\n",
    "encmsg = ''\n",
    "for ch in omsg:\n",
    "    encmsg += encdec[ch]\n",
    "print(omsg,encmsg)"
   ]
  },
  {
   "cell_type": "code",
   "execution_count": 8,
   "metadata": {},
   "outputs": [
    {
     "data": {
      "text/plain": [
       "{'E': 'A',\n",
       " 'F': 'B',\n",
       " 'G': 'C',\n",
       " 'H': 'D',\n",
       " 'I': 'E',\n",
       " 'J': 'F',\n",
       " 'K': 'G',\n",
       " 'L': 'H',\n",
       " 'M': 'I',\n",
       " 'N': 'J',\n",
       " 'O': 'K',\n",
       " 'P': 'L',\n",
       " 'Q': 'M',\n",
       " 'R': 'N',\n",
       " 'S': 'O',\n",
       " 'T': 'P',\n",
       " 'U': 'Q',\n",
       " 'V': 'R',\n",
       " 'W': 'S',\n",
       " 'X': 'T',\n",
       " 'Y': 'U',\n",
       " 'Z': 'V',\n",
       " 'A': 'W',\n",
       " 'B': 'X',\n",
       " 'C': 'Y',\n",
       " 'D': 'Z'}"
      ]
     },
     "execution_count": 8,
     "metadata": {},
     "output_type": "execute_result"
    }
   ],
   "source": [
    "decdic = {}\n",
    "for i in range(65,91):\n",
    "    if i>86:\n",
    "        decdic[chr(i-22)]=chr(i)\n",
    "    else:\n",
    "        decdic[chr(i+4)]=chr(i)\n",
    "decdic"
   ]
  },
  {
   "cell_type": "code",
   "execution_count": 9,
   "metadata": {},
   "outputs": [
    {
     "name": "stdout",
     "output_type": "stream",
     "text": [
      "UPENDRA YTIRHVE UPENDRA\n"
     ]
    }
   ],
   "source": [
    "decmsg = ''\n",
    "for ch in encmsg:\n",
    "    decmsg += decdic[ch]\n",
    "print(omsg,encmsg,decmsg)"
   ]
  },
  {
   "cell_type": "code",
   "execution_count": 4,
   "metadata": {},
   "outputs": [
    {
     "data": {
      "text/plain": [
       "{'a': 'e',\n",
       " 'b': 'f',\n",
       " 'c': 'g',\n",
       " 'd': 'h',\n",
       " 'e': 'i',\n",
       " 'f': 'j',\n",
       " 'g': 'k',\n",
       " 'h': 'l',\n",
       " 'i': 'm',\n",
       " 'j': 'n',\n",
       " 'k': 'o',\n",
       " 'l': 'p',\n",
       " 'm': 'q',\n",
       " 'n': 'r',\n",
       " 'o': 's',\n",
       " 'p': 't',\n",
       " 'q': 'u',\n",
       " 'r': 'v',\n",
       " 's': 'w',\n",
       " 't': 'x',\n",
       " 'u': 'y',\n",
       " 'v': 'z',\n",
       " 'w': 'a',\n",
       " 'x': 'b',\n",
       " 'y': 'c',\n",
       " 'z': 'd'}"
      ]
     },
     "execution_count": 4,
     "metadata": {},
     "output_type": "execute_result"
    }
   ],
   "source": [
    "senc = {}\n",
    "for i in range(97,123):\n",
    "    if i>118:\n",
    "        senc[chr(i)] = chr(i-22)\n",
    "    else:\n",
    "        senc[chr(i)] = chr(i+4)\n",
    "senc"
   ]
  },
  {
   "cell_type": "code",
   "execution_count": 5,
   "metadata": {},
   "outputs": [
    {
     "data": {
      "text/plain": [
       "{'e': 'a',\n",
       " 'f': 'b',\n",
       " 'g': 'c',\n",
       " 'h': 'd',\n",
       " 'i': 'e',\n",
       " 'j': 'f',\n",
       " 'k': 'g',\n",
       " 'l': 'h',\n",
       " 'm': 'i',\n",
       " 'n': 'j',\n",
       " 'o': 'k',\n",
       " 'p': 'l',\n",
       " 'q': 'm',\n",
       " 'r': 'n',\n",
       " 's': 'o',\n",
       " 't': 'p',\n",
       " 'u': 'q',\n",
       " 'v': 'r',\n",
       " 'w': 's',\n",
       " 'x': 't',\n",
       " 'y': 'u',\n",
       " 'z': 'v',\n",
       " 'a': 'w',\n",
       " 'b': 'x',\n",
       " 'c': 'y',\n",
       " 'd': 'z'}"
      ]
     },
     "execution_count": 5,
     "metadata": {},
     "output_type": "execute_result"
    }
   ],
   "source": [
    "sdnc = {}\n",
    "for i in range(97,123):\n",
    "    if i>118:\n",
    "        sdnc[chr(i-22)] = chr(i)\n",
    "    else:\n",
    "        sdnc[chr(i+4)] = chr(i)\n",
    "sdnc"
   ]
  },
  {
   "cell_type": "code",
   "execution_count": 6,
   "metadata": {},
   "outputs": [
    {
     "data": {
      "text/plain": [
       "'ytirhve'"
      ]
     },
     "execution_count": 6,
     "metadata": {},
     "output_type": "execute_result"
    }
   ],
   "source": [
    "o = \"upendra\"\n",
    "n = ''\n",
    "for i in o:\n",
    "    n += senc[i]\n",
    "n"
   ]
  },
  {
   "cell_type": "code",
   "execution_count": 7,
   "metadata": {},
   "outputs": [
    {
     "data": {
      "text/plain": [
       "'ytirhve'"
      ]
     },
     "execution_count": 7,
     "metadata": {},
     "output_type": "execute_result"
    }
   ],
   "source": [
    "d = \"\"\n",
    "for i in n:\n",
    "    d += sdnc[i]\n",
    "n"
   ]
  },
  {
   "cell_type": "code",
   "execution_count": null,
   "metadata": {},
   "outputs": [],
   "source": [
    "chr"
   ]
  }
 ],
 "metadata": {
  "kernelspec": {
   "display_name": "Python 3",
   "language": "python",
   "name": "python3"
  },
  "language_info": {
   "codemirror_mode": {
    "name": "ipython",
    "version": 3
   },
   "file_extension": ".py",
   "mimetype": "text/x-python",
   "name": "python",
   "nbconvert_exporter": "python",
   "pygments_lexer": "ipython3",
   "version": "3.7.3"
  }
 },
 "nbformat": 4,
 "nbformat_minor": 2
}
