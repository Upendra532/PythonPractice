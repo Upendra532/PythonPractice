{
 "cells": [
  {
   "cell_type": "code",
   "execution_count": 4,
   "metadata": {},
   "outputs": [
    {
     "name": "stdout",
     "output_type": "stream",
     "text": [
      "hello\n",
      "hi\n",
      "over\n"
     ]
    }
   ],
   "source": [
    "def fun_name():\n",
    "    print(\"hello\")\n",
    "    print(\"hi\")\n",
    "fun_name()\n",
    "print(\"over\")\n"
   ]
  },
  {
   "cell_type": "code",
   "execution_count": 5,
   "metadata": {},
   "outputs": [
    {
     "name": "stdout",
     "output_type": "stream",
     "text": [
      "iam with out passing arguments without return\n"
     ]
    }
   ],
   "source": [
    "# passing arguments and without return\n",
    "def show():\n",
    "    print(\"iam with out passing arguments without return\")\n",
    "show()"
   ]
  },
  {
   "cell_type": "code",
   "execution_count": 8,
   "metadata": {},
   "outputs": [
    {
     "name": "stdout",
     "output_type": "stream",
     "text": [
      "bye\n"
     ]
    }
   ],
   "source": [
    "def display():\n",
    "    return \"bye\"\n",
    "print(display())"
   ]
  },
  {
   "cell_type": "code",
   "execution_count": 9,
   "metadata": {},
   "outputs": [
    {
     "name": "stdout",
     "output_type": "stream",
     "text": [
      "bye\n"
     ]
    }
   ],
   "source": [
    "rs = display()\n",
    "print(rs)"
   ]
  },
  {
   "cell_type": "code",
   "execution_count": 14,
   "metadata": {},
   "outputs": [
    {
     "name": "stdout",
     "output_type": "stream",
     "text": [
      "addition of num1 and num2:is 11\n"
     ]
    }
   ],
   "source": [
    "# without arguments and without return result\n",
    "def add(num1,num2):\n",
    "    print(\"addition of num1 and num2:is\",num1+num2)\n",
    "add(5,6)"
   ]
  },
  {
   "cell_type": "code",
   "execution_count": 20,
   "metadata": {},
   "outputs": [
    {
     "name": "stdout",
     "output_type": "stream",
     "text": [
      "mul of numbers is: 30\n",
      "num1*num2 30\n"
     ]
    }
   ],
   "source": [
    "# passing arguments and return result\n",
    "def mul(n1,n2):\n",
    "    return n1*n2\n",
    "print(\"mul of numbers is:\",mul(5,6))\n",
    "rs=mul(5,6)\n",
    "print(\"num1*num2\",rs)"
   ]
  },
  {
   "cell_type": "code",
   "execution_count": 24,
   "metadata": {},
   "outputs": [
    {
     "name": "stdout",
     "output_type": "stream",
     "text": [
      "enter a1 number2\n",
      "enter b1 number3\n",
      "addition of num1 and num2 is 5\n",
      "substraction of num1 and num2 is -1\n",
      "multiplication of num1 and num2 is 6\n",
      "modulo of num1 and num2 is 2\n"
     ]
    }
   ],
   "source": [
    "a=int(input(\"enter a1 number\"))\n",
    "b=int(input(\"enter b1 number\"))\n",
    "def add(a1,b1):\n",
    "    return(a1+b1)\n",
    "def sub(a1,b1):\n",
    "    return(a1-b1)\n",
    "def mul(a1,b1):\n",
    "    return(a1*b1)\n",
    "def mod(a1,b1):\n",
    "    return(a1%b1)\n",
    "print(\"addition of num1 and num2 is\",add(a,b))\n",
    "print(\"substraction of num1 and num2 is\",sub(a,b))\n",
    "print(\"multiplication of num1 and num2 is\",mul(a,b))\n",
    "print(\"modulo of num1 and num2 is\",mod(a,b))\n"
   ]
  },
  {
   "cell_type": "code",
   "execution_count": 3,
   "metadata": {},
   "outputs": [
    {
     "name": "stdout",
     "output_type": "stream",
     "text": [
      "hello hi###APSSDC MSTP\n"
     ]
    }
   ],
   "source": [
    "# default arguments\n",
    "print(\"hello\",end=\" \")\n",
    "print(\"hi\",end=\"###\")\n",
    "print(\"APSSDC MSTP\")"
   ]
  },
  {
   "cell_type": "code",
   "execution_count": 8,
   "metadata": {},
   "outputs": [
    {
     "name": "stdout",
     "output_type": "stream",
     "text": [
      "5\n",
      "10\n",
      "6\n"
     ]
    }
   ],
   "source": [
    "def add(n1=0,n2=0,n3=0,n4=0):\n",
    "    return n1+n2+n3+n4\n",
    "print(add(5))\n",
    "print(add(5,5))\n",
    "print(add(1,2,3))"
   ]
  },
  {
   "cell_type": "code",
   "execution_count": 13,
   "metadata": {},
   "outputs": [
    {
     "name": "stdout",
     "output_type": "stream",
     "text": [
      "20\n"
     ]
    }
   ],
   "source": [
    "# exapmle for required arguments\n",
    "def mul(a,b):\n",
    "    return a*b\n",
    "print(mul(5,4))"
   ]
  },
  {
   "cell_type": "code",
   "execution_count": 14,
   "metadata": {},
   "outputs": [
    {
     "name": "stdout",
     "output_type": "stream",
     "text": [
      "4\n"
     ]
    }
   ],
   "source": [
    "#  example for keyword arguments is print(end=\",\")\n",
    "def power(base,exp=0):\n",
    "    return base**exp\n",
    "print(power(exp=2,base=2))\n",
    "    "
   ]
  },
  {
   "cell_type": "code",
   "execution_count": 22,
   "metadata": {},
   "outputs": [
    {
     "name": "stdout",
     "output_type": "stream",
     "text": [
      "<class 'list'>\n",
      "sum of vals is: 21\n"
     ]
    }
   ],
   "source": [
    "# variable length arguments\n",
    "def sm(vals):\n",
    "    print(type(vals))\n",
    "    print(\"sum of vals is:\",sum(vals))\n",
    "sm([1,2,3,4,5,6])"
   ]
  },
  {
   "cell_type": "markdown",
   "metadata": {},
   "source": [
    "# conditional control statements:\n",
    "- it controls flow of program execution based on conditon.\n",
    "- 3 types\n",
    "     - conditional statements\n",
    "       ->if\n",
    "       ,if else\n",
    "       ,if else lader\n",
    "       ,nested if else\n",
    "     - iterative statements or looping statements\n",
    "     - jumping statements"
   ]
  },
  {
   "cell_type": "code",
   "execution_count": 23,
   "metadata": {},
   "outputs": [
    {
     "name": "stdout",
     "output_type": "stream",
     "text": [
      "4 is smaller than 5\n"
     ]
    }
   ],
   "source": [
    "if(4<5):\n",
    "    print(\"4 is smaller than 5\")\n",
    "    "
   ]
  },
  {
   "cell_type": "code",
   "execution_count": 24,
   "metadata": {},
   "outputs": [
    {
     "name": "stdout",
     "output_type": "stream",
     "text": [
      "ur in else block\n",
      "ursmaller\n"
     ]
    }
   ],
   "source": [
    "if(6<5):\n",
    "    print(\"ur in if block\")\n",
    "    print(\"ur bigger\")\n",
    "else:\n",
    "    print(\"ur in else block\")\n",
    "    print(\"ursmaller\")"
   ]
  },
  {
   "cell_type": "code",
   "execution_count": 25,
   "metadata": {},
   "outputs": [
    {
     "name": "stdout",
     "output_type": "stream",
     "text": [
      "ur in block\n"
     ]
    }
   ],
   "source": [
    "if(5<6):\n",
    "    print(\"ur in block\")\n",
    "elif(6<7):\n",
    "    print(\"ur in elif block\")\n",
    "else:\n",
    "    print(\"if ur in else block\")"
   ]
  },
  {
   "cell_type": "code",
   "execution_count": null,
   "metadata": {},
   "outputs": [],
   "source": []
  }
 ],
 "metadata": {
  "kernelspec": {
   "display_name": "Python 3",
   "language": "python",
   "name": "python3"
  },
  "language_info": {
   "codemirror_mode": {
    "name": "ipython",
    "version": 3
   },
   "file_extension": ".py",
   "mimetype": "text/x-python",
   "name": "python",
   "nbconvert_exporter": "python",
   "pygments_lexer": "ipython3",
   "version": "3.7.3"
  }
 },
 "nbformat": 4,
 "nbformat_minor": 2
}
