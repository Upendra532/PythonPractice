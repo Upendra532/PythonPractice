{
 "cells": [
  {
   "cell_type": "code",
   "execution_count": 1,
   "metadata": {},
   "outputs": [
    {
     "name": "stdout",
     "output_type": "stream",
     "text": [
      "2638\n",
      "8\n",
      "3\n",
      "6\n",
      "2\n"
     ]
    }
   ],
   "source": [
    "s = input()\n",
    "for i in s[::-1]:\n",
    "    print(i)"
   ]
  },
  {
   "cell_type": "code",
   "execution_count": 2,
   "metadata": {},
   "outputs": [
    {
     "name": "stdout",
     "output_type": "stream",
     "text": [
      "2\n",
      "8919738650\n",
      "8332854679\n",
      "+91-(833)-285-4679\n",
      "+91-(891)-973-8650\n"
     ]
    }
   ],
   "source": [
    "n = int(input())\n",
    "nums =[]\n",
    "for i in range(n):\n",
    "    num = input()\n",
    "    if num.startswith('0'):\n",
    "        nums.append(num[1:])\n",
    "    elif(num.startswith('+91')):\n",
    "        nums.append(num[3:])\n",
    "    elif(num.startswith('91')):\n",
    "        nums.append(num[2:])\n",
    "    else:\n",
    "        nums.append(num)\n",
    "nums.sort()\n",
    "for num in nums:\n",
    "    print(\"+91-(\"+num[0:3]+\")-\"+num[3:6]+\"-\"+num[6:])"
   ]
  },
  {
   "cell_type": "code",
   "execution_count": null,
   "metadata": {},
   "outputs": [],
   "source": []
  }
 ],
 "metadata": {
  "kernelspec": {
   "display_name": "Python 3",
   "language": "python",
   "name": "python3"
  },
  "language_info": {
   "codemirror_mode": {
    "name": "ipython",
    "version": 3
   },
   "file_extension": ".py",
   "mimetype": "text/x-python",
   "name": "python",
   "nbconvert_exporter": "python",
   "pygments_lexer": "ipython3",
   "version": "3.7.3"
  }
 },
 "nbformat": 4,
 "nbformat_minor": 2
}
