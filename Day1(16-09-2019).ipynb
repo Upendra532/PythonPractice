{
 "cells": [
  {
   "cell_type": "markdown",
   "metadata": {},
   "source": [
    "### 16-septemeber-2019 Day Objectives:\n",
    "- anaconda installation \n",
    "- about anaconda navigator\n",
    "- different between python idle and jupyter notebook\n",
    "- about jupytor notebook\n",
    "- using jupytor notebook\n",
    "- code mode and markdown mode"
   ]
  },
  {
   "cell_type": "markdown",
   "metadata": {},
   "source": [
    "# print(\"welcome to mstp\")\n",
    "print(\"iam from apssdc\")"
   ]
  },
  {
   "cell_type": "code",
   "execution_count": 13,
   "metadata": {},
   "outputs": [
    {
     "data": {
      "text/plain": [
       "5"
      ]
     },
     "execution_count": 13,
     "metadata": {},
     "output_type": "execute_result"
    }
   ],
   "source": [
    "2+3"
   ]
  },
  {
   "cell_type": "code",
   "execution_count": 10,
   "metadata": {},
   "outputs": [
    {
     "data": {
      "text/plain": [
       "11"
      ]
     },
     "execution_count": 10,
     "metadata": {},
     "output_type": "execute_result"
    }
   ],
   "source": [
    "4+7"
   ]
  },
  {
   "cell_type": "markdown",
   "metadata": {},
   "source": [
    "# it will print like a header1 tag\n",
    "## it will print like a header2 tag\n",
    "### it will print like a header3 tag\n",
    "#### header4\n",
    "\n",
    "\n",
    "<p>iam using  paragraph tag</p>\n",
    "<img src=\"python symbol.jpg\">\n",
    "\n",
    "## HTML List\n",
    "- unordered list\n",
    "     - ul tag with li tag\n",
    "- ordered list\n",
    "     - ul tag withli tag\n",
    "<a href=\"python symbol.jpg\">click here</a>"
   ]
  },
  {
   "cell_type": "code",
   "execution_count": 1,
   "metadata": {},
   "outputs": [
    {
     "name": "stdout",
     "output_type": "stream",
     "text": [
      "<class 'int'>\n",
      "<class 'float'>\n",
      "<class 'str'>\n"
     ]
    }
   ],
   "source": [
    "c=0\n",
    "print(type(c))\n",
    "c=5/2\n",
    "print(type(c))\n",
    "c=\"a\"\n",
    "print(type(c))\n"
   ]
  },
  {
   "cell_type": "markdown",
   "metadata": {},
   "source": [
    "# Variables\n",
    "\n",
    "- we can store values tempararly\n",
    "\n",
    "### variable assignments\n",
    "- assigning single value to multiple variables\n",
    "- assigning different type of values to different\n",
    "\n",
    "\n"
   ]
  },
  {
   "cell_type": "code",
   "execution_count": 2,
   "metadata": {},
   "outputs": [
    {
     "name": "stdout",
     "output_type": "stream",
     "text": [
      "10\n",
      "10\n",
      "10\n"
     ]
    }
   ],
   "source": [
    "a=b=c=10\n",
    "print(a)\n",
    "print(b)\n",
    "print(c)\n"
   ]
  },
  {
   "cell_type": "code",
   "execution_count": 7,
   "metadata": {},
   "outputs": [
    {
     "name": "stdout",
     "output_type": "stream",
     "text": [
      "<class 'str'>\n",
      "24.5 <class 'float'>\n",
      "126365 <class 'int'>\n"
     ]
    }
   ],
   "source": [
    "name,age,rollno=\"apssdc\",24.5,126365\n",
    "print(type(name))\n",
    "print(age,type(age))\n",
    "print(rollno,type(rollno))"
   ]
  },
  {
   "cell_type": "code",
   "execution_count": 8,
   "metadata": {},
   "outputs": [
    {
     "name": "stdout",
     "output_type": "stream",
     "text": [
      "10 20\n",
      "20 10\n"
     ]
    }
   ],
   "source": [
    "a,b=10,20\n",
    "print(a,b)\n",
    "a,b=b,a\n",
    "print(a,b)"
   ]
  },
  {
   "cell_type": "markdown",
   "metadata": {},
   "source": [
    "#### Reading values from user\n",
    "- in python we can use input() for reading values from user\n"
   ]
  },
  {
   "cell_type": "code",
   "execution_count": 9,
   "metadata": {},
   "outputs": [
    {
     "name": "stdout",
     "output_type": "stream",
     "text": [
      "enter a valuee\n"
     ]
    },
    {
     "data": {
      "text/plain": [
       "str"
      ]
     },
     "execution_count": 9,
     "metadata": {},
     "output_type": "execute_result"
    }
   ],
   "source": [
    "a = input(\"enter a value\")\n",
    "type(a)"
   ]
  },
  {
   "cell_type": "code",
   "execution_count": 10,
   "metadata": {},
   "outputs": [
    {
     "name": "stdout",
     "output_type": "stream",
     "text": [
      "enter a number68567\n",
      "<class 'int'>\n"
     ]
    }
   ],
   "source": [
    "b=int(input(\"enter a number\"))\n",
    "print(type(b))"
   ]
  },
  {
   "cell_type": "code",
   "execution_count": 17,
   "metadata": {},
   "outputs": [
    {
     "name": "stdout",
     "output_type": "stream",
     "text": [
      "enter a namertuethtod\n",
      "welcome rtuethtod\n"
     ]
    }
   ],
   "source": [
    "name = str(input(\"enter a name\"))\n",
    "print(\"welcome\",name)"
   ]
  },
  {
   "cell_type": "markdown",
   "metadata": {},
   "source": [
    "#### modes of execution\n",
    "- we have 2 ways\n",
    "    - interactive mode\n",
    "         - we can write something and we can see result there only\n",
    "    - scripting mode-we can build logic in file.py\n",
    "        "
   ]
  },
  {
   "cell_type": "markdown",
   "metadata": {},
   "source": [
    "# operators\n",
    "- we can perform arithemetic and logical operations\n",
    "\n",
    "#### types:\n",
    "- AO --> +,-,*,/,%,//,**\n",
    "- RO --> <,<=,>,>=,==,!=\n",
    "     - compare 2 nums\n",
    "- LO - and, or , not\n",
    "     - We can compare 2 conditions\n",
    "- BO - &,|,<<,>>\n",
    "- ASO\n",
    "- MO\n",
    "- IO\n",
    "- IDO\n"
   ]
  },
  {
   "cell_type": "markdown",
   "metadata": {},
   "source": [
    "2+4\n",
    "5-3\n",
    "2*2"
   ]
  },
  {
   "cell_type": "code",
   "execution_count": 22,
   "metadata": {},
   "outputs": [
    {
     "data": {
      "text/plain": [
       "8"
      ]
     },
     "execution_count": 22,
     "metadata": {},
     "output_type": "execute_result"
    }
   ],
   "source": [
    "\"*\"*5\n",
    "2**3\n"
   ]
  },
  {
   "cell_type": "code",
   "execution_count": 23,
   "metadata": {},
   "outputs": [
    {
     "data": {
      "text/plain": [
       "True"
      ]
     },
     "execution_count": 23,
     "metadata": {},
     "output_type": "execute_result"
    }
   ],
   "source": [
    "3<5"
   ]
  },
  {
   "cell_type": "code",
   "execution_count": 26,
   "metadata": {},
   "outputs": [
    {
     "data": {
      "text/plain": [
       "' upendra  upendra  upendra '"
      ]
     },
     "execution_count": 26,
     "metadata": {},
     "output_type": "execute_result"
    }
   ],
   "source": [
    "\" upendra \" *3\n"
   ]
  },
  {
   "cell_type": "code",
   "execution_count": 30,
   "metadata": {},
   "outputs": [
    {
     "data": {
      "text/plain": [
       "'\\n\\n2==>0010\\n3==>0011\\n========\\n    0100==>2\\n\\n'"
      ]
     },
     "execution_count": 30,
     "metadata": {},
     "output_type": "execute_result"
    }
   ],
   "source": [
    "a,b,c,d=5,8,4,9\n",
    "a<b and c>d\n",
    "a>b or c<d\n",
    "not a>b\n",
    "2&3\n"
   ]
  },
  {
   "cell_type": "code",
   "execution_count": 34,
   "metadata": {},
   "outputs": [
    {
     "data": {
      "text/plain": [
       "1"
      ]
     },
     "execution_count": 34,
     "metadata": {},
     "output_type": "execute_result"
    }
   ],
   "source": [
    "2&3\n",
    "# \"\"\"\n",
    "# 2==>\n",
    "2<<1\n",
    "#2-->0010\n",
    "# 0100 \n",
    "2>>1\n",
    "# 2 -- > 0010\n",
    "# 0001 ->1"
   ]
  },
  {
   "cell_type": "code",
   "execution_count": 35,
   "metadata": {},
   "outputs": [
    {
     "data": {
      "text/plain": [
       "True"
      ]
     },
     "execution_count": 35,
     "metadata": {},
     "output_type": "execute_result"
    }
   ],
   "source": [
    "arr=[1,2,5,4,6]\n",
    "5 in arr"
   ]
  },
  {
   "cell_type": "code",
   "execution_count": 39,
   "metadata": {},
   "outputs": [
    {
     "data": {
      "text/plain": [
       "140714525430624"
      ]
     },
     "execution_count": 39,
     "metadata": {},
     "output_type": "execute_result"
    }
   ],
   "source": [
    "2 is 3\n",
    "'abc' is 'abc'\n",
    "id(2)"
   ]
  },
  {
   "cell_type": "code",
   "execution_count": null,
   "metadata": {},
   "outputs": [],
   "source": []
  }
 ],
 "metadata": {
  "kernelspec": {
   "display_name": "Python 3",
   "language": "python",
   "name": "python3"
  },
  "language_info": {
   "codemirror_mode": {
    "name": "ipython",
    "version": 3
   },
   "file_extension": ".py",
   "mimetype": "text/x-python",
   "name": "python",
   "nbconvert_exporter": "python",
   "pygments_lexer": "ipython3",
   "version": "3.7.3"
  }
 },
 "nbformat": 4,
 "nbformat_minor": 2
}
